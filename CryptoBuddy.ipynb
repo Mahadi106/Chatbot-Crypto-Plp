{
  "nbformat": 4,
  "nbformat_minor": 0,
  "metadata": {
    "colab": {
      "provenance": []
    },
    "kernelspec": {
      "name": "python3",
      "display_name": "Python 3"
    },
    "language_info": {
      "name": "python"
    }
  },
  "cells": [
    {
      "cell_type": "code",
      "source": [
        "# Message d'accueil\n",
        "print(\"Salut, je suis CryptoBuddy, ton compagnon IA pour les cryptos durables et rentables ! \")\n",
        "\n",
        "# Base de données des cryptos\n",
        "crypto_db = {\n",
        "    \"Bitcoin\": {\n",
        "        \"price_trend\": \"en hausse\",\n",
        "        \"market_cap\": \"élevée\",\n",
        "        \"energy_consommation\": \"élevée\",\n",
        "        \"sustainability_score\": 3\n",
        "    },\n",
        "    \"Ethereum\": {\n",
        "        \"price_trend\": \"stable\",\n",
        "        \"market_cap\": \"élevée\",\n",
        "        \"energy_consommation\": \"moyenne\",\n",
        "        \"sustainability_score\": 6\n",
        "    },\n",
        "    \"Cardano\": {\n",
        "        \"price_trend\": \"en hausse\",\n",
        "        \"market_cap\": \"moyenne\",\n",
        "        \"energy_consommation\": \"faible\",\n",
        "        \"sustainability_score\": 8\n",
        "    }\n",
        "}\n",
        "\n",
        "# Fonction principale du chatbot\n",
        "def crypto_advisor(user_query):\n",
        "    user_query = user_query.lower()\n",
        "\n",
        "    if \"durable\" in user_query:\n",
        "        recommend = max(crypto_db, key=lambda x: crypto_db[x][\"sustainability_score\"])\n",
        "        print(f\"Investissez dans {recommend} ! C'est écologique et a un potentiel à long terme !\")\n",
        "\n",
        "    elif \"en hausse\" in user_query or \"croissance\" in user_query:\n",
        "        rising = [coin for coin in crypto_db if crypto_db[coin][\"price_trend\"] == \"en hausse\"]\n",
        "        print(f\"Les cryptos en hausse sont : {', '.join(rising)}\")\n",
        "\n",
        "    elif \"rentable\" in user_query or \"investissement\" in user_query:\n",
        "        for coin, data in crypto_db.items():\n",
        "            if data[\"price_trend\"] == \"en hausse\" and data[\"market_cap\"] == \"élevée\":\n",
        "                print(f\"{coin} est rentable avec une forte capitalisation et une tendance haussière.\")\n",
        "\n",
        "    else:\n",
        "        print(\" Je ne suis pas sûr de comprendre. Essaie avec des mots comme 'durable', 'rentable' ou 'en hausse'.\")\n",
        "\n",
        "# Tests du chatbot\n",
        "crypto_advisor(\"Quelle est la pièce la plus durable ?\")\n",
        "crypto_advisor(\"Quelle crypto est en hausse ?\")\n",
        "crypto_advisor(\"Quelle crypto est rentable pour investir ?\")\n",
        "\n",
        "# Clause éthique\n",
        "print(\" Avertissement : La cryptomonnaie est risquée. Faites toujours vos propres recherches avant d’investir.\")"
      ],
      "metadata": {
        "colab": {
          "base_uri": "https://localhost:8080/"
        },
        "id": "T4V1RswhZMrl",
        "outputId": "63819ef2-4378-4ee7-80ed-e04ce6d1246a"
      },
      "execution_count": 8,
      "outputs": [
        {
          "output_type": "stream",
          "name": "stdout",
          "text": [
            "Salut, je suis CryptoBuddy, ton compagnon IA pour les cryptos durables et rentables ! \n",
            "Investissez dans Cardano ! C'est écologique et a un potentiel à long terme !\n",
            "Les cryptos en hausse sont : Bitcoin, Cardano\n",
            "Bitcoin est rentable avec une forte capitalisation et une tendance haussière.\n",
            " Avertissement : La cryptomonnaie est risquée. Faites toujours vos propres recherches avant d’investir.\n"
          ]
        }
      ]
    },
    {
      "cell_type": "code",
      "source": [
        "# Pose ta question ici\n",
        "crypto_advisor(\"Quelle est la pièce la plus durable ?\")"
      ],
      "metadata": {
        "colab": {
          "base_uri": "https://localhost:8080/"
        },
        "id": "xPxZGRqRcMsG",
        "outputId": "098e3ba7-2c57-476d-8df6-010d49765cc9"
      },
      "execution_count": 12,
      "outputs": [
        {
          "output_type": "stream",
          "name": "stdout",
          "text": [
            "Investissez dans Cardano ! C'est écologique et a un potentiel à long terme !\n"
          ]
        }
      ]
    },
    {
      "cell_type": "code",
      "source": [
        "crypto_advisor(\"Quelle crypto est en hausse?\")\n",
        "crypto_advisor(\"Quelle crypto est rentable pour investir?\")\n",
        "crypto_advisor(\"Quelle et la meilleure crypto pour l'environnement?\")"
      ],
      "metadata": {
        "colab": {
          "base_uri": "https://localhost:8080/"
        },
        "id": "uqMJb0SLcR9x",
        "outputId": "a075a39b-eb01-4ed1-dfb9-c0105b00b439"
      },
      "execution_count": 11,
      "outputs": [
        {
          "output_type": "stream",
          "name": "stdout",
          "text": [
            "Les cryptos en hausse sont : Bitcoin, Cardano\n",
            "Bitcoin est rentable avec une forte capitalisation et une tendance haussière.\n",
            " Je ne suis pas sûr de comprendre. Essaie avec des mots comme 'durable', 'rentable' ou 'en hausse'.\n"
          ]
        }
      ]
    }
  ]
}
